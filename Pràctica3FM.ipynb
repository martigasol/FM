{
 "cells": [
  {
   "cell_type": "code",
   "execution_count": 1,
   "id": "49c5657e",
   "metadata": {},
   "outputs": [
    {
     "data": {
      "text/html": [
       "<html>\\(\\displaystyle x^{3} - 5 \\, x^{2} + 23 = 0\\)</html>"
      ],
      "text/latex": [
       "$\\displaystyle x^{3} - 5 \\, x^{2} + 23 = 0$"
      ],
      "text/plain": [
       "x^3 - 5*x^2 + 23 == 0"
      ]
     },
     "metadata": {},
     "output_type": "display_data"
    }
   ],
   "source": [
    "eq1= x^3-5*x^2+23 == 0\n",
    "show(eq1)"
   ]
  },
  {
   "cell_type": "code",
   "execution_count": 3,
   "id": "84a88fcd",
   "metadata": {},
   "outputs": [
    {
     "data": {
      "text/html": [
       "<html>\\(\\displaystyle \\left[x = 5\\right]\\)</html>"
      ],
      "text/latex": [
       "$\\displaystyle \\left[x = 5\\right]$"
      ],
      "text/plain": [
       "[x == 5]"
      ]
     },
     "metadata": {},
     "output_type": "display_data"
    }
   ],
   "source": [
    "f(𝑥) = (2^𝑥)-32\n",
    "eq = f(x)==0\n",
    "ss = solve(eq,x)\n",
    "show(ss)"
   ]
  },
  {
   "cell_type": "code",
   "execution_count": 7,
   "id": "d62ac5d1",
   "metadata": {},
   "outputs": [
    {
     "data": {
      "text/html": [
       "<html>\\(\\displaystyle \\left[x = -\\frac{1}{20} \\, \\sqrt{301} + \\frac{1}{20}, x = \\frac{1}{20} \\, \\sqrt{301} + \\frac{1}{20}\\right]\\)</html>"
      ],
      "text/latex": [
       "$\\displaystyle \\left[x = -\\frac{1}{20} \\, \\sqrt{301} + \\frac{1}{20}, x = \\frac{1}{20} \\, \\sqrt{301} + \\frac{1}{20}\\right]$"
      ],
      "text/plain": [
       "[x == -1/20*sqrt(301) + 1/20, x == 1/20*sqrt(301) + 1/20]"
      ]
     },
     "metadata": {},
     "output_type": "display_data"
    }
   ],
   "source": [
    "g(x) = 2*x/((4*(x^2))-3)-5\n",
    "eq = g(x)==0\n",
    "ss= solve(eq,x)\n",
    "show(ss)"
   ]
  },
  {
   "cell_type": "code",
   "execution_count": 8,
   "id": "397c724d",
   "metadata": {},
   "outputs": [
    {
     "data": {
      "text/plain": [
       "[x == 1/2*(I*sqrt(3) - 1)*(e^x - 1)^(1/3), x == -1/2*(I*sqrt(3) + 1)*(e^x - 1)^(1/3), x == (e^x - 1)^(1/3)]"
      ]
     },
     "execution_count": 8,
     "metadata": {},
     "output_type": "execute_result"
    }
   ],
   "source": [
    "g(x)=x^ 3+1-exp(x)\n",
    "eq4= g(x)==0\n",
    "solve(eq4,x)"
   ]
  },
  {
   "cell_type": "code",
   "execution_count": 9,
   "id": "47b60631",
   "metadata": {},
   "outputs": [
    {
     "data": {
      "image/png": "[encoded data removed]",
      "text/plain": [
       "Graphics object consisting of 1 graphics primitive"
      ]
     },
     "execution_count": 9,
     "metadata": {},
     "output_type": "execute_result"
    }
   ],
   "source": [
    "domini1=(-2,2)\n",
    "domini2=(4,5)\n",
    "plot(g,domini1)\n",
    "plot(g,domini2)"
   ]
  },
  {
   "cell_type": "code",
   "execution_count": 10,
   "id": "da751929",
   "metadata": {},
   "outputs": [
    {
     "data": {
      "text/html": [
       "<html>\\(\\displaystyle \\left[-0.8251554696886889, -2.43999028074386 \\times 10^{-17}, 1.5450072790732132, 4.567036836946052\\right]\\)</html>"
      ],
      "text/latex": [
       "$\\displaystyle \\left[-0.8251554696886889, -2.43999028074386 \\times 10^{-17}, 1.5450072790732132, 4.567036836946052\\right]$"
      ],
      "text/plain": [
       "[-0.8251554696886889,\n",
       " -2.43999028074386e-17,\n",
       " 1.5450072790732132,\n",
       " 4.567036836946052]"
      ]
     },
     "metadata": {},
     "output_type": "display_data"
    }
   ],
   "source": [
    "s1=find_root(g,-1,-0.5)\n",
    "s2=find_root(g,-0.5,0.5)\n",
    "s3=find_root(g,1,2)\n",
    "s4=find_root(g,4.4,4.8)\n",
    "show([s1,s2,s3,s4])"
   ]
  },
  {
   "cell_type": "code",
   "execution_count": 12,
   "id": "a75b34b4",
   "metadata": {},
   "outputs": [
    {
     "data": {
      "text/plain": [
       "(0.0007815609976080176,\n",
       "       converged: True\n",
       "            flag: 'converged'\n",
       "  function_calls: 14\n",
       "      iterations: 13\n",
       "            root: 0.0007815609976080176)"
      ]
     },
     "execution_count": 12,
     "metadata": {},
     "output_type": "execute_result"
    }
   ],
   "source": [
    "find_root( g, -0.5,0.5, full_output=true)\n",
    "find_root( exp(x)-1, -0.5,0.5, full_output=true)\n",
    "find_root( exp(x^2)-1, -0.5,0.5, full_output=true)\n",
    "find_root( exp(x^3)-1, -0.5,0.5, full_output=true)\n",
    "find_root( x*exp(x-1/x^2), -0.5,0.5, full_output=true)"
   ]
  },
  {
   "cell_type": "code",
   "execution_count": 1,
   "id": "30100e93",
   "metadata": {},
   "outputs": [
    {
     "data": {
      "text/html": [
       "<html>\\(\\displaystyle 1.41421365737915\\)</html>"
      ],
      "text/latex": [
       "$\\displaystyle 1.41421365737915$"
      ],
      "text/plain": [
       "1.41421365737915"
      ]
     },
     "metadata": {},
     "output_type": "display_data"
    }
   ],
   "source": [
    "def bisseccio(f,x0,x1,tolerancia=1e-6):\n",
    "    x0 = x0.n()\n",
    "    x1 = x1.n()\n",
    "    x2 = (x0 + x1)/2\n",
    "    y = f(x2)\n",
    "    while (abs(y) > tolerancia):\n",
    "        if (y > 0 and f(x0) > 0) or (y < 0 and f(x0) < 0): #si el de l'esquerra i el del mitj = signe\n",
    "            x0 = x2\n",
    "        elif (y > 0 and f(x1) > 0) or (y < 0 and f(x1) < 0): #si el de la dreta i el del mitj = signe\n",
    "            x1 = x2\n",
    "        x2 = (x0 + x1)/2\n",
    "        y = f(x2)\n",
    "    return x2\n",
    "f(x) = x^2-2\n",
    "sol = bisseccio(f,1,2)\n",
    "show(sol)"
   ]
  },
  {
   "cell_type": "code",
   "execution_count": 2,
   "id": "f7cd7d69",
   "metadata": {},
   "outputs": [
    {
     "data": {
      "text/html": [
       "<html>\\(\\displaystyle 1.41421356237469\\)</html>"
      ],
      "text/latex": [
       "$\\displaystyle 1.41421356237469$"
      ],
      "text/plain": [
       "1.41421356237469"
      ]
     },
     "metadata": {},
     "output_type": "display_data"
    }
   ],
   "source": [
    "def newton(f,x0, tolerancia=1e-6):\n",
    "    x0 = x0.n()\n",
    "    der = diff(f)\n",
    "    if der(x0)!=0:\n",
    "        x1 = x0 - f(x0)/der(x0)\n",
    "        y = f(x1)\n",
    "        while (abs(y) > tolerancia):\n",
    "            x1 = x0 - f(x0)/der(x0)\n",
    "            x0 = x1\n",
    "            y = f(x0)\n",
    "    else:\n",
    "        raise ValueError(\"Canvia de punt inicial\")\n",
    "    \n",
    "    return x0\n",
    "f(x) = x^2-2\n",
    "sol = newton(f,1)\n",
    "show(sol)"
   ]
  },
  {
   "cell_type": "code",
   "execution_count": null,
   "id": "36a155ad",
   "metadata": {},
   "outputs": [],
   "source": []
  }
 ],
 "metadata": {
  "kernelspec": {
   "display_name": "SageMath 10.1",
   "language": "sage",
   "name": "sagemath"
  },
  "language_info": {
   "codemirror_mode": {
    "name": "ipython",
    "version": 3
   },
   "file_extension": ".py",
   "mimetype": "text/x-python",
   "name": "python",
   "nbconvert_exporter": "python",
   "pygments_lexer": "ipython3",
   "version": "3.11.1"
  }
 },
 "nbformat": 4,
 "nbformat_minor": 5
}
